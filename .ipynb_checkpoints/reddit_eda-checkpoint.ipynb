{
 "cells": [
  {
   "cell_type": "code",
   "execution_count": 1,
   "metadata": {},
   "outputs": [],
   "source": [
    "import pandas as pd"
   ]
  },
  {
   "cell_type": "code",
   "execution_count": 3,
   "metadata": {
    "scrolled": true
   },
   "outputs": [],
   "source": [
    "df = pd.read_csv('./asxbets_posts.csv', delimiter='\\t')"
   ]
  },
  {
   "cell_type": "code",
   "execution_count": 4,
   "metadata": {},
   "outputs": [
    {
     "data": {
      "text/html": [
       "<div>\n",
       "<style scoped>\n",
       "    .dataframe tbody tr th:only-of-type {\n",
       "        vertical-align: middle;\n",
       "    }\n",
       "\n",
       "    .dataframe tbody tr th {\n",
       "        vertical-align: top;\n",
       "    }\n",
       "\n",
       "    .dataframe thead th {\n",
       "        text-align: right;\n",
       "    }\n",
       "</style>\n",
       "<table border=\"1\" class=\"dataframe\">\n",
       "  <thead>\n",
       "    <tr style=\"text-align: right;\">\n",
       "      <th></th>\n",
       "      <th>Date_UTC</th>\n",
       "      <th>Time</th>\n",
       "      <th>Body</th>\n",
       "      <th>User</th>\n",
       "      <th>Post</th>\n",
       "    </tr>\n",
       "  </thead>\n",
       "  <tbody>\n",
       "    <tr>\n",
       "      <th>0</th>\n",
       "      <td>2020-06-13</td>\n",
       "      <td>03:39:33</td>\n",
       "      <td>Post for the weekend of 13-14 June *I thought ...</td>\n",
       "      <td>_TheLordOfRuin_</td>\n",
       "      <td>1</td>\n",
       "    </tr>\n",
       "    <tr>\n",
       "      <th>1</th>\n",
       "      <td>2020-06-13</td>\n",
       "      <td>03:47:08</td>\n",
       "      <td>Today wasn't even that red given where we open...</td>\n",
       "      <td>malbro08</td>\n",
       "      <td>0</td>\n",
       "    </tr>\n",
       "    <tr>\n",
       "      <th>2</th>\n",
       "      <td>2020-06-13</td>\n",
       "      <td>03:54:19</td>\n",
       "      <td>I was Kenny Rogers today knowing when to Hold ...</td>\n",
       "      <td>miamivice85</td>\n",
       "      <td>0</td>\n",
       "    </tr>\n",
       "    <tr>\n",
       "      <th>3</th>\n",
       "      <td>2020-06-13</td>\n",
       "      <td>04:18:01</td>\n",
       "      <td>Bring out the disco bears lads.</td>\n",
       "      <td>Albusmaddog</td>\n",
       "      <td>0</td>\n",
       "    </tr>\n",
       "    <tr>\n",
       "      <th>4</th>\n",
       "      <td>2020-06-13</td>\n",
       "      <td>14:27:16</td>\n",
       "      <td>Who is here holding NVX long term? I have legi...</td>\n",
       "      <td>Notarandomthrowaway1</td>\n",
       "      <td>0</td>\n",
       "    </tr>\n",
       "  </tbody>\n",
       "</table>\n",
       "</div>"
      ],
      "text/plain": [
       "     Date_UTC      Time                                               Body  \\\n",
       "0  2020-06-13  03:39:33  Post for the weekend of 13-14 June *I thought ...   \n",
       "1  2020-06-13  03:47:08  Today wasn't even that red given where we open...   \n",
       "2  2020-06-13  03:54:19  I was Kenny Rogers today knowing when to Hold ...   \n",
       "3  2020-06-13  04:18:01                    Bring out the disco bears lads.   \n",
       "4  2020-06-13  14:27:16  Who is here holding NVX long term? I have legi...   \n",
       "\n",
       "                   User  Post  \n",
       "0       _TheLordOfRuin_     1  \n",
       "1              malbro08     0  \n",
       "2           miamivice85     0  \n",
       "3           Albusmaddog     0  \n",
       "4  Notarandomthrowaway1     0  "
      ]
     },
     "execution_count": 4,
     "metadata": {},
     "output_type": "execute_result"
    }
   ],
   "source": [
    "df.head()"
   ]
  },
  {
   "cell_type": "code",
   "execution_count": 4,
   "metadata": {},
   "outputs": [],
   "source": [
    "pattern = \"[A-Z|1-9]{3,4}\""
   ]
  },
  {
   "cell_type": "code",
   "execution_count": null,
   "metadata": {},
   "outputs": [],
   "source": []
  }
 ],
 "metadata": {
  "kernelspec": {
   "display_name": "Python 3",
   "language": "python",
   "name": "python3"
  },
  "language_info": {
   "codemirror_mode": {
    "name": "ipython",
    "version": 3
   },
   "file_extension": ".py",
   "mimetype": "text/x-python",
   "name": "python",
   "nbconvert_exporter": "python",
   "pygments_lexer": "ipython3",
   "version": "3.7.4"
  }
 },
 "nbformat": 4,
 "nbformat_minor": 4
}
