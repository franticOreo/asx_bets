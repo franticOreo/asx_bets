{
 "cells": [
  {
   "cell_type": "markdown",
   "metadata": {},
   "source": [
    "# Exploring Subreddit Mentions of ASX listed Stocks and their Prices.   "
   ]
  },
  {
   "cell_type": "code",
   "execution_count": 1,
   "metadata": {},
   "outputs": [],
   "source": [
    "import pandas as pd\n",
    "import re\n",
    "import matplotlib.pyplot as plt \n",
    "from sklearn.preprocessing import StandardScaler\n",
    "plt.style.use('ggplot')"
   ]
  },
  {
   "cell_type": "code",
   "execution_count": 2,
   "metadata": {
    "scrolled": true
   },
   "outputs": [],
   "source": [
    "df = pd.read_csv('./asxbets_posts.csv', delimiter='\\t')"
   ]
  },
  {
   "cell_type": "code",
   "execution_count": 3,
   "metadata": {},
   "outputs": [
    {
     "data": {
      "text/html": [
       "<div>\n",
       "<style scoped>\n",
       "    .dataframe tbody tr th:only-of-type {\n",
       "        vertical-align: middle;\n",
       "    }\n",
       "\n",
       "    .dataframe tbody tr th {\n",
       "        vertical-align: top;\n",
       "    }\n",
       "\n",
       "    .dataframe thead th {\n",
       "        text-align: right;\n",
       "    }\n",
       "</style>\n",
       "<table border=\"1\" class=\"dataframe\">\n",
       "  <thead>\n",
       "    <tr style=\"text-align: right;\">\n",
       "      <th></th>\n",
       "      <th>Date_UTC</th>\n",
       "      <th>Time</th>\n",
       "      <th>Body</th>\n",
       "      <th>User</th>\n",
       "      <th>Post</th>\n",
       "    </tr>\n",
       "  </thead>\n",
       "  <tbody>\n",
       "    <tr>\n",
       "      <th>0</th>\n",
       "      <td>2020-06-13</td>\n",
       "      <td>03:39:33</td>\n",
       "      <td>Post for the weekend of 13-14 June *I thought ...</td>\n",
       "      <td>_TheLordOfRuin_</td>\n",
       "      <td>1</td>\n",
       "    </tr>\n",
       "    <tr>\n",
       "      <th>1</th>\n",
       "      <td>2020-06-13</td>\n",
       "      <td>03:47:08</td>\n",
       "      <td>Today wasn't even that red given where we open...</td>\n",
       "      <td>malbro08</td>\n",
       "      <td>0</td>\n",
       "    </tr>\n",
       "    <tr>\n",
       "      <th>2</th>\n",
       "      <td>2020-06-13</td>\n",
       "      <td>03:54:19</td>\n",
       "      <td>I was Kenny Rogers today knowing when to Hold ...</td>\n",
       "      <td>miamivice85</td>\n",
       "      <td>0</td>\n",
       "    </tr>\n",
       "    <tr>\n",
       "      <th>3</th>\n",
       "      <td>2020-06-13</td>\n",
       "      <td>04:18:01</td>\n",
       "      <td>Bring out the disco bears lads.</td>\n",
       "      <td>Albusmaddog</td>\n",
       "      <td>0</td>\n",
       "    </tr>\n",
       "    <tr>\n",
       "      <th>4</th>\n",
       "      <td>2020-06-13</td>\n",
       "      <td>14:27:16</td>\n",
       "      <td>Who is here holding NVX long term? I have legi...</td>\n",
       "      <td>Notarandomthrowaway1</td>\n",
       "      <td>0</td>\n",
       "    </tr>\n",
       "  </tbody>\n",
       "</table>\n",
       "</div>"
      ],
      "text/plain": [
       "     Date_UTC      Time                                               Body  \\\n",
       "0  2020-06-13  03:39:33  Post for the weekend of 13-14 June *I thought ...   \n",
       "1  2020-06-13  03:47:08  Today wasn't even that red given where we open...   \n",
       "2  2020-06-13  03:54:19  I was Kenny Rogers today knowing when to Hold ...   \n",
       "3  2020-06-13  04:18:01                    Bring out the disco bears lads.   \n",
       "4  2020-06-13  14:27:16  Who is here holding NVX long term? I have legi...   \n",
       "\n",
       "                   User  Post  \n",
       "0       _TheLordOfRuin_     1  \n",
       "1              malbro08     0  \n",
       "2           miamivice85     0  \n",
       "3           Albusmaddog     0  \n",
       "4  Notarandomthrowaway1     0  "
      ]
     },
     "execution_count": 3,
     "metadata": {},
     "output_type": "execute_result"
    }
   ],
   "source": [
    "df.head()"
   ]
  },
  {
   "cell_type": "markdown",
   "metadata": {},
   "source": [
    "## Cleaning "
   ]
  },
  {
   "cell_type": "code",
   "execution_count": 4,
   "metadata": {},
   "outputs": [],
   "source": [
    "def make_stock_col(row):\n",
    "    '''Parse Body Text with Regex to extract, ASX\n",
    "    Codes, make new column with a set of codes\n",
    "    '''\n",
    "    pattern = \"[A-Z|1-9]{3,4}\"\n",
    "    regex = re.compile(pattern)\n",
    "    codes = regex.findall(row['Body'])\n",
    "    # remove duplicates\n",
    "    codes = list(frozenset(codes))\n",
    "    if len(codes) == 0:\n",
    "        codes = None\n",
    "    row['ASX_Codes'] = codes\n",
    "    \n",
    "    return row\n",
    "\n",
    "df = df.apply(make_stock_col, axis=1)"
   ]
  },
  {
   "cell_type": "code",
   "execution_count": 5,
   "metadata": {},
   "outputs": [
    {
     "data": {
      "text/html": [
       "<div>\n",
       "<style scoped>\n",
       "    .dataframe tbody tr th:only-of-type {\n",
       "        vertical-align: middle;\n",
       "    }\n",
       "\n",
       "    .dataframe tbody tr th {\n",
       "        vertical-align: top;\n",
       "    }\n",
       "\n",
       "    .dataframe thead th {\n",
       "        text-align: right;\n",
       "    }\n",
       "</style>\n",
       "<table border=\"1\" class=\"dataframe\">\n",
       "  <thead>\n",
       "    <tr style=\"text-align: right;\">\n",
       "      <th></th>\n",
       "      <th>Date_UTC</th>\n",
       "      <th>Time</th>\n",
       "      <th>Body</th>\n",
       "      <th>User</th>\n",
       "      <th>Post</th>\n",
       "      <th>ASX_Codes</th>\n",
       "    </tr>\n",
       "  </thead>\n",
       "  <tbody>\n",
       "    <tr>\n",
       "      <th>0</th>\n",
       "      <td>2020-06-13</td>\n",
       "      <td>03:39:33</td>\n",
       "      <td>Post for the weekend of 13-14 June *I thought ...</td>\n",
       "      <td>_TheLordOfRuin_</td>\n",
       "      <td>1</td>\n",
       "      <td>None</td>\n",
       "    </tr>\n",
       "    <tr>\n",
       "      <th>1</th>\n",
       "      <td>2020-06-13</td>\n",
       "      <td>03:47:08</td>\n",
       "      <td>Today wasn't even that red given where we open...</td>\n",
       "      <td>malbro08</td>\n",
       "      <td>0</td>\n",
       "      <td>None</td>\n",
       "    </tr>\n",
       "    <tr>\n",
       "      <th>2</th>\n",
       "      <td>2020-06-13</td>\n",
       "      <td>03:54:19</td>\n",
       "      <td>I was Kenny Rogers today knowing when to Hold ...</td>\n",
       "      <td>miamivice85</td>\n",
       "      <td>0</td>\n",
       "      <td>None</td>\n",
       "    </tr>\n",
       "    <tr>\n",
       "      <th>3</th>\n",
       "      <td>2020-06-13</td>\n",
       "      <td>04:18:01</td>\n",
       "      <td>Bring out the disco bears lads.</td>\n",
       "      <td>Albusmaddog</td>\n",
       "      <td>0</td>\n",
       "      <td>None</td>\n",
       "    </tr>\n",
       "    <tr>\n",
       "      <th>4</th>\n",
       "      <td>2020-06-13</td>\n",
       "      <td>14:27:16</td>\n",
       "      <td>Who is here holding NVX long term? I have legi...</td>\n",
       "      <td>Notarandomthrowaway1</td>\n",
       "      <td>0</td>\n",
       "      <td>[NVX, BTC]</td>\n",
       "    </tr>\n",
       "  </tbody>\n",
       "</table>\n",
       "</div>"
      ],
      "text/plain": [
       "     Date_UTC      Time                                               Body  \\\n",
       "0  2020-06-13  03:39:33  Post for the weekend of 13-14 June *I thought ...   \n",
       "1  2020-06-13  03:47:08  Today wasn't even that red given where we open...   \n",
       "2  2020-06-13  03:54:19  I was Kenny Rogers today knowing when to Hold ...   \n",
       "3  2020-06-13  04:18:01                    Bring out the disco bears lads.   \n",
       "4  2020-06-13  14:27:16  Who is here holding NVX long term? I have legi...   \n",
       "\n",
       "                   User  Post   ASX_Codes  \n",
       "0       _TheLordOfRuin_     1        None  \n",
       "1              malbro08     0        None  \n",
       "2           miamivice85     0        None  \n",
       "3           Albusmaddog     0        None  \n",
       "4  Notarandomthrowaway1     0  [NVX, BTC]  "
      ]
     },
     "execution_count": 5,
     "metadata": {},
     "output_type": "execute_result"
    }
   ],
   "source": [
    "df.head()"
   ]
  },
  {
   "cell_type": "code",
   "execution_count": 6,
   "metadata": {},
   "outputs": [
    {
     "data": {
      "text/html": [
       "<div>\n",
       "<style scoped>\n",
       "    .dataframe tbody tr th:only-of-type {\n",
       "        vertical-align: middle;\n",
       "    }\n",
       "\n",
       "    .dataframe tbody tr th {\n",
       "        vertical-align: top;\n",
       "    }\n",
       "\n",
       "    .dataframe thead th {\n",
       "        text-align: right;\n",
       "    }\n",
       "</style>\n",
       "<table border=\"1\" class=\"dataframe\">\n",
       "  <thead>\n",
       "    <tr style=\"text-align: right;\">\n",
       "      <th></th>\n",
       "      <th>Date_UTC</th>\n",
       "      <th>Time</th>\n",
       "      <th>Body</th>\n",
       "      <th>User</th>\n",
       "      <th>Post</th>\n",
       "      <th>ASX_Codes</th>\n",
       "    </tr>\n",
       "  </thead>\n",
       "  <tbody>\n",
       "    <tr>\n",
       "      <th>4</th>\n",
       "      <td>2020-06-13</td>\n",
       "      <td>14:27:16</td>\n",
       "      <td>Who is here holding NVX long term? I have legi...</td>\n",
       "      <td>Notarandomthrowaway1</td>\n",
       "      <td>0</td>\n",
       "      <td>[NVX, BTC]</td>\n",
       "    </tr>\n",
       "    <tr>\n",
       "      <th>13</th>\n",
       "      <td>2020-06-13</td>\n",
       "      <td>20:16:01</td>\n",
       "      <td>How many autists does it take to pump a stock ...</td>\n",
       "      <td>obnoxis</td>\n",
       "      <td>1</td>\n",
       "      <td>[NVX]</td>\n",
       "    </tr>\n",
       "    <tr>\n",
       "      <th>14</th>\n",
       "      <td>2020-06-13</td>\n",
       "      <td>20:18:39</td>\n",
       "      <td>Somebody go pump this stock on Whirlpool forum...</td>\n",
       "      <td>Richard_Fuld_2020</td>\n",
       "      <td>0</td>\n",
       "      <td>[EOFY]</td>\n",
       "    </tr>\n",
       "    <tr>\n",
       "      <th>17</th>\n",
       "      <td>2020-06-13</td>\n",
       "      <td>21:25:33</td>\n",
       "      <td>Much better throwing it into VUL</td>\n",
       "      <td>didgi98</td>\n",
       "      <td>0</td>\n",
       "      <td>[VUL]</td>\n",
       "    </tr>\n",
       "    <tr>\n",
       "      <th>18</th>\n",
       "      <td>2020-06-13</td>\n",
       "      <td>08:41:16</td>\n",
       "      <td>Glad I found this sub! Moved from NY to Syd an...</td>\n",
       "      <td>RatchetCliquet</td>\n",
       "      <td>1</td>\n",
       "      <td>[ASX]</td>\n",
       "    </tr>\n",
       "  </tbody>\n",
       "</table>\n",
       "</div>"
      ],
      "text/plain": [
       "      Date_UTC      Time                                               Body  \\\n",
       "4   2020-06-13  14:27:16  Who is here holding NVX long term? I have legi...   \n",
       "13  2020-06-13  20:16:01  How many autists does it take to pump a stock ...   \n",
       "14  2020-06-13  20:18:39  Somebody go pump this stock on Whirlpool forum...   \n",
       "17  2020-06-13  21:25:33                   Much better throwing it into VUL   \n",
       "18  2020-06-13  08:41:16  Glad I found this sub! Moved from NY to Syd an...   \n",
       "\n",
       "                    User  Post   ASX_Codes  \n",
       "4   Notarandomthrowaway1     0  [NVX, BTC]  \n",
       "13               obnoxis     1       [NVX]  \n",
       "14     Richard_Fuld_2020     0      [EOFY]  \n",
       "17               didgi98     0       [VUL]  \n",
       "18        RatchetCliquet     1       [ASX]  "
      ]
     },
     "execution_count": 6,
     "metadata": {},
     "output_type": "execute_result"
    }
   ],
   "source": [
    "# get all posts including at least one ASX code.\n",
    "df = df[~df['ASX_Codes'].isna()]\n",
    "df.head()\n"
   ]
  },
  {
   "cell_type": "code",
   "execution_count": 7,
   "metadata": {},
   "outputs": [
    {
     "data": {
      "text/html": [
       "<div>\n",
       "<style scoped>\n",
       "    .dataframe tbody tr th:only-of-type {\n",
       "        vertical-align: middle;\n",
       "    }\n",
       "\n",
       "    .dataframe tbody tr th {\n",
       "        vertical-align: top;\n",
       "    }\n",
       "\n",
       "    .dataframe thead th {\n",
       "        text-align: right;\n",
       "    }\n",
       "</style>\n",
       "<table border=\"1\" class=\"dataframe\">\n",
       "  <thead>\n",
       "    <tr style=\"text-align: right;\">\n",
       "      <th></th>\n",
       "      <th>Date_UTC</th>\n",
       "      <th>Time</th>\n",
       "      <th>Body</th>\n",
       "      <th>User</th>\n",
       "      <th>Post</th>\n",
       "      <th>ASX_Codes</th>\n",
       "      <th>ASX_Code</th>\n",
       "    </tr>\n",
       "  </thead>\n",
       "  <tbody>\n",
       "    <tr>\n",
       "      <th>4</th>\n",
       "      <td>2020-06-13</td>\n",
       "      <td>14:27:16</td>\n",
       "      <td>Who is here holding NVX long term? I have legi...</td>\n",
       "      <td>Notarandomthrowaway1</td>\n",
       "      <td>0</td>\n",
       "      <td>[NVX, BTC]</td>\n",
       "      <td>NaN</td>\n",
       "    </tr>\n",
       "    <tr>\n",
       "      <th>48</th>\n",
       "      <td>2020-06-13</td>\n",
       "      <td>06:27:26</td>\n",
       "      <td>Two things. \\n\\nOne - positions?\\n\\nTwo - do y...</td>\n",
       "      <td>calicotrinket</td>\n",
       "      <td>0</td>\n",
       "      <td>[NSW, VIC]</td>\n",
       "      <td>NaN</td>\n",
       "    </tr>\n",
       "    <tr>\n",
       "      <th>79</th>\n",
       "      <td>2020-06-13</td>\n",
       "      <td>03:52:33</td>\n",
       "      <td>ENTER PLAYER TWO.</td>\n",
       "      <td>SelfWealthAus</td>\n",
       "      <td>0</td>\n",
       "      <td>[TWO, ENTE, PLAY]</td>\n",
       "      <td>NaN</td>\n",
       "    </tr>\n",
       "    <tr>\n",
       "      <th>88</th>\n",
       "      <td>2020-06-13</td>\n",
       "      <td>03:13:39</td>\n",
       "      <td>Is it Karen and Greg who are [ working offsite...</td>\n",
       "      <td>AussieFIdoc</td>\n",
       "      <td>0</td>\n",
       "      <td>[416, ASIC]</td>\n",
       "      <td>NaN</td>\n",
       "    </tr>\n",
       "    <tr>\n",
       "      <th>101</th>\n",
       "      <td>2020-06-13</td>\n",
       "      <td>11:57:13</td>\n",
       "      <td>[Excellent](https://lh3.googleusercontent.com/...</td>\n",
       "      <td>AussieFIdoc</td>\n",
       "      <td>0</td>\n",
       "      <td>[WAD, FODS, 862V, GWP, 3Q9, K5Q, SV8, 1DYE, IK...</td>\n",
       "      <td>NaN</td>\n",
       "    </tr>\n",
       "    <tr>\n",
       "      <th>...</th>\n",
       "      <td>...</td>\n",
       "      <td>...</td>\n",
       "      <td>...</td>\n",
       "      <td>...</td>\n",
       "      <td>...</td>\n",
       "      <td>...</td>\n",
       "      <td>...</td>\n",
       "    </tr>\n",
       "    <tr>\n",
       "      <th>10546</th>\n",
       "      <td>2020-04-23</td>\n",
       "      <td>00:44:53</td>\n",
       "      <td>I guess because I plan on holding VAS for the ...</td>\n",
       "      <td>OverflowingSarcasm</td>\n",
       "      <td>0</td>\n",
       "      <td>[VAS, GEAR, ETF]</td>\n",
       "      <td>VAS</td>\n",
       "    </tr>\n",
       "    <tr>\n",
       "      <th>10546</th>\n",
       "      <td>2020-04-23</td>\n",
       "      <td>00:44:53</td>\n",
       "      <td>I guess because I plan on holding VAS for the ...</td>\n",
       "      <td>OverflowingSarcasm</td>\n",
       "      <td>0</td>\n",
       "      <td>[VAS, GEAR, ETF]</td>\n",
       "      <td>GEAR</td>\n",
       "    </tr>\n",
       "    <tr>\n",
       "      <th>10546</th>\n",
       "      <td>2020-04-23</td>\n",
       "      <td>00:44:53</td>\n",
       "      <td>I guess because I plan on holding VAS for the ...</td>\n",
       "      <td>OverflowingSarcasm</td>\n",
       "      <td>0</td>\n",
       "      <td>[VAS, GEAR, ETF]</td>\n",
       "      <td>ETF</td>\n",
       "    </tr>\n",
       "    <tr>\n",
       "      <th>10549</th>\n",
       "      <td>2020-04-23</td>\n",
       "      <td>20:05:48</td>\n",
       "      <td>Probably looking at ~30% tax on any BBOZ gains...</td>\n",
       "      <td>OverflowingSarcasm</td>\n",
       "      <td>0</td>\n",
       "      <td>[VAS, BBOZ]</td>\n",
       "      <td>VAS</td>\n",
       "    </tr>\n",
       "    <tr>\n",
       "      <th>10549</th>\n",
       "      <td>2020-04-23</td>\n",
       "      <td>20:05:48</td>\n",
       "      <td>Probably looking at ~30% tax on any BBOZ gains...</td>\n",
       "      <td>OverflowingSarcasm</td>\n",
       "      <td>0</td>\n",
       "      <td>[VAS, BBOZ]</td>\n",
       "      <td>BBOZ</td>\n",
       "    </tr>\n",
       "  </tbody>\n",
       "</table>\n",
       "<p>4485 rows × 7 columns</p>\n",
       "</div>"
      ],
      "text/plain": [
       "         Date_UTC      Time  \\\n",
       "4      2020-06-13  14:27:16   \n",
       "48     2020-06-13  06:27:26   \n",
       "79     2020-06-13  03:52:33   \n",
       "88     2020-06-13  03:13:39   \n",
       "101    2020-06-13  11:57:13   \n",
       "...           ...       ...   \n",
       "10546  2020-04-23  00:44:53   \n",
       "10546  2020-04-23  00:44:53   \n",
       "10546  2020-04-23  00:44:53   \n",
       "10549  2020-04-23  20:05:48   \n",
       "10549  2020-04-23  20:05:48   \n",
       "\n",
       "                                                    Body  \\\n",
       "4      Who is here holding NVX long term? I have legi...   \n",
       "48     Two things. \\n\\nOne - positions?\\n\\nTwo - do y...   \n",
       "79                                     ENTER PLAYER TWO.   \n",
       "88     Is it Karen and Greg who are [ working offsite...   \n",
       "101    [Excellent](https://lh3.googleusercontent.com/...   \n",
       "...                                                  ...   \n",
       "10546  I guess because I plan on holding VAS for the ...   \n",
       "10546  I guess because I plan on holding VAS for the ...   \n",
       "10546  I guess because I plan on holding VAS for the ...   \n",
       "10549  Probably looking at ~30% tax on any BBOZ gains...   \n",
       "10549  Probably looking at ~30% tax on any BBOZ gains...   \n",
       "\n",
       "                       User  Post  \\\n",
       "4      Notarandomthrowaway1     0   \n",
       "48            calicotrinket     0   \n",
       "79            SelfWealthAus     0   \n",
       "88              AussieFIdoc     0   \n",
       "101             AussieFIdoc     0   \n",
       "...                     ...   ...   \n",
       "10546    OverflowingSarcasm     0   \n",
       "10546    OverflowingSarcasm     0   \n",
       "10546    OverflowingSarcasm     0   \n",
       "10549    OverflowingSarcasm     0   \n",
       "10549    OverflowingSarcasm     0   \n",
       "\n",
       "                                               ASX_Codes ASX_Code  \n",
       "4                                             [NVX, BTC]      NaN  \n",
       "48                                            [NSW, VIC]      NaN  \n",
       "79                                     [TWO, ENTE, PLAY]      NaN  \n",
       "88                                           [416, ASIC]      NaN  \n",
       "101    [WAD, FODS, 862V, GWP, 3Q9, K5Q, SV8, 1DYE, IK...      NaN  \n",
       "...                                                  ...      ...  \n",
       "10546                                   [VAS, GEAR, ETF]      VAS  \n",
       "10546                                   [VAS, GEAR, ETF]     GEAR  \n",
       "10546                                   [VAS, GEAR, ETF]      ETF  \n",
       "10549                                        [VAS, BBOZ]      VAS  \n",
       "10549                                        [VAS, BBOZ]     BBOZ  \n",
       "\n",
       "[4485 rows x 7 columns]"
      ]
     },
     "execution_count": 7,
     "metadata": {},
     "output_type": "execute_result"
    }
   ],
   "source": [
    "df_multi_asx = df[df['ASX_Codes'].str.len()>1]\n",
    "\n",
    "# iterate over rows of df with mutiple ASX codes\n",
    "for idx, row in df_multi_asx.iterrows():\n",
    "    # iterate over the amount of the codes\n",
    "    for idx, code in enumerate(range(len(row['ASX_Codes']))):\n",
    "        \n",
    "        row['ASX_Code'] = row['ASX_Codes'][idx]\n",
    "        \n",
    "        df_multi_asx = df_multi_asx.append(row)\n",
    "df_multi_asx.reindex()"
   ]
  },
  {
   "cell_type": "code",
   "execution_count": 8,
   "metadata": {},
   "outputs": [
    {
     "data": {
      "text/html": [
       "<div>\n",
       "<style scoped>\n",
       "    .dataframe tbody tr th:only-of-type {\n",
       "        vertical-align: middle;\n",
       "    }\n",
       "\n",
       "    .dataframe tbody tr th {\n",
       "        vertical-align: top;\n",
       "    }\n",
       "\n",
       "    .dataframe thead th {\n",
       "        text-align: right;\n",
       "    }\n",
       "</style>\n",
       "<table border=\"1\" class=\"dataframe\">\n",
       "  <thead>\n",
       "    <tr style=\"text-align: right;\">\n",
       "      <th></th>\n",
       "      <th>Date_UTC</th>\n",
       "      <th>Time</th>\n",
       "      <th>Body</th>\n",
       "      <th>User</th>\n",
       "      <th>Post</th>\n",
       "      <th>ASX_Codes</th>\n",
       "      <th>ASX_Code</th>\n",
       "    </tr>\n",
       "  </thead>\n",
       "  <tbody>\n",
       "    <tr>\n",
       "      <th>4</th>\n",
       "      <td>2020-06-13</td>\n",
       "      <td>14:27:16</td>\n",
       "      <td>Who is here holding NVX long term? I have legi...</td>\n",
       "      <td>Notarandomthrowaway1</td>\n",
       "      <td>0</td>\n",
       "      <td>[NVX, BTC]</td>\n",
       "      <td>NVX</td>\n",
       "    </tr>\n",
       "    <tr>\n",
       "      <th>4</th>\n",
       "      <td>2020-06-13</td>\n",
       "      <td>14:27:16</td>\n",
       "      <td>Who is here holding NVX long term? I have legi...</td>\n",
       "      <td>Notarandomthrowaway1</td>\n",
       "      <td>0</td>\n",
       "      <td>[NVX, BTC]</td>\n",
       "      <td>BTC</td>\n",
       "    </tr>\n",
       "    <tr>\n",
       "      <th>48</th>\n",
       "      <td>2020-06-13</td>\n",
       "      <td>06:27:26</td>\n",
       "      <td>Two things. \\n\\nOne - positions?\\n\\nTwo - do y...</td>\n",
       "      <td>calicotrinket</td>\n",
       "      <td>0</td>\n",
       "      <td>[NSW, VIC]</td>\n",
       "      <td>NSW</td>\n",
       "    </tr>\n",
       "    <tr>\n",
       "      <th>48</th>\n",
       "      <td>2020-06-13</td>\n",
       "      <td>06:27:26</td>\n",
       "      <td>Two things. \\n\\nOne - positions?\\n\\nTwo - do y...</td>\n",
       "      <td>calicotrinket</td>\n",
       "      <td>0</td>\n",
       "      <td>[NSW, VIC]</td>\n",
       "      <td>VIC</td>\n",
       "    </tr>\n",
       "    <tr>\n",
       "      <th>79</th>\n",
       "      <td>2020-06-13</td>\n",
       "      <td>03:52:33</td>\n",
       "      <td>ENTER PLAYER TWO.</td>\n",
       "      <td>SelfWealthAus</td>\n",
       "      <td>0</td>\n",
       "      <td>[TWO, ENTE, PLAY]</td>\n",
       "      <td>TWO</td>\n",
       "    </tr>\n",
       "    <tr>\n",
       "      <th>...</th>\n",
       "      <td>...</td>\n",
       "      <td>...</td>\n",
       "      <td>...</td>\n",
       "      <td>...</td>\n",
       "      <td>...</td>\n",
       "      <td>...</td>\n",
       "      <td>...</td>\n",
       "    </tr>\n",
       "    <tr>\n",
       "      <th>10546</th>\n",
       "      <td>2020-04-23</td>\n",
       "      <td>00:44:53</td>\n",
       "      <td>I guess because I plan on holding VAS for the ...</td>\n",
       "      <td>OverflowingSarcasm</td>\n",
       "      <td>0</td>\n",
       "      <td>[VAS, GEAR, ETF]</td>\n",
       "      <td>VAS</td>\n",
       "    </tr>\n",
       "    <tr>\n",
       "      <th>10546</th>\n",
       "      <td>2020-04-23</td>\n",
       "      <td>00:44:53</td>\n",
       "      <td>I guess because I plan on holding VAS for the ...</td>\n",
       "      <td>OverflowingSarcasm</td>\n",
       "      <td>0</td>\n",
       "      <td>[VAS, GEAR, ETF]</td>\n",
       "      <td>GEAR</td>\n",
       "    </tr>\n",
       "    <tr>\n",
       "      <th>10546</th>\n",
       "      <td>2020-04-23</td>\n",
       "      <td>00:44:53</td>\n",
       "      <td>I guess because I plan on holding VAS for the ...</td>\n",
       "      <td>OverflowingSarcasm</td>\n",
       "      <td>0</td>\n",
       "      <td>[VAS, GEAR, ETF]</td>\n",
       "      <td>ETF</td>\n",
       "    </tr>\n",
       "    <tr>\n",
       "      <th>10549</th>\n",
       "      <td>2020-04-23</td>\n",
       "      <td>20:05:48</td>\n",
       "      <td>Probably looking at ~30% tax on any BBOZ gains...</td>\n",
       "      <td>OverflowingSarcasm</td>\n",
       "      <td>0</td>\n",
       "      <td>[VAS, BBOZ]</td>\n",
       "      <td>VAS</td>\n",
       "    </tr>\n",
       "    <tr>\n",
       "      <th>10549</th>\n",
       "      <td>2020-04-23</td>\n",
       "      <td>20:05:48</td>\n",
       "      <td>Probably looking at ~30% tax on any BBOZ gains...</td>\n",
       "      <td>OverflowingSarcasm</td>\n",
       "      <td>0</td>\n",
       "      <td>[VAS, BBOZ]</td>\n",
       "      <td>BBOZ</td>\n",
       "    </tr>\n",
       "  </tbody>\n",
       "</table>\n",
       "<p>3402 rows × 7 columns</p>\n",
       "</div>"
      ],
      "text/plain": [
       "         Date_UTC      Time  \\\n",
       "4      2020-06-13  14:27:16   \n",
       "4      2020-06-13  14:27:16   \n",
       "48     2020-06-13  06:27:26   \n",
       "48     2020-06-13  06:27:26   \n",
       "79     2020-06-13  03:52:33   \n",
       "...           ...       ...   \n",
       "10546  2020-04-23  00:44:53   \n",
       "10546  2020-04-23  00:44:53   \n",
       "10546  2020-04-23  00:44:53   \n",
       "10549  2020-04-23  20:05:48   \n",
       "10549  2020-04-23  20:05:48   \n",
       "\n",
       "                                                    Body  \\\n",
       "4      Who is here holding NVX long term? I have legi...   \n",
       "4      Who is here holding NVX long term? I have legi...   \n",
       "48     Two things. \\n\\nOne - positions?\\n\\nTwo - do y...   \n",
       "48     Two things. \\n\\nOne - positions?\\n\\nTwo - do y...   \n",
       "79                                     ENTER PLAYER TWO.   \n",
       "...                                                  ...   \n",
       "10546  I guess because I plan on holding VAS for the ...   \n",
       "10546  I guess because I plan on holding VAS for the ...   \n",
       "10546  I guess because I plan on holding VAS for the ...   \n",
       "10549  Probably looking at ~30% tax on any BBOZ gains...   \n",
       "10549  Probably looking at ~30% tax on any BBOZ gains...   \n",
       "\n",
       "                       User  Post          ASX_Codes ASX_Code  \n",
       "4      Notarandomthrowaway1     0         [NVX, BTC]      NVX  \n",
       "4      Notarandomthrowaway1     0         [NVX, BTC]      BTC  \n",
       "48            calicotrinket     0         [NSW, VIC]      NSW  \n",
       "48            calicotrinket     0         [NSW, VIC]      VIC  \n",
       "79            SelfWealthAus     0  [TWO, ENTE, PLAY]      TWO  \n",
       "...                     ...   ...                ...      ...  \n",
       "10546    OverflowingSarcasm     0   [VAS, GEAR, ETF]      VAS  \n",
       "10546    OverflowingSarcasm     0   [VAS, GEAR, ETF]     GEAR  \n",
       "10546    OverflowingSarcasm     0   [VAS, GEAR, ETF]      ETF  \n",
       "10549    OverflowingSarcasm     0        [VAS, BBOZ]      VAS  \n",
       "10549    OverflowingSarcasm     0        [VAS, BBOZ]     BBOZ  \n",
       "\n",
       "[3402 rows x 7 columns]"
      ]
     },
     "execution_count": 8,
     "metadata": {},
     "output_type": "execute_result"
    }
   ],
   "source": [
    "# remove the NaN Codes, the post has now been successfully sepearated.\n",
    "df_multi_asx[~df_multi_asx['ASX_Code'].isna()]"
   ]
  },
  {
   "cell_type": "code",
   "execution_count": 9,
   "metadata": {},
   "outputs": [
    {
     "data": {
      "text/plain": [
       "(2298, 6)"
      ]
     },
     "execution_count": 9,
     "metadata": {},
     "output_type": "execute_result"
    }
   ],
   "source": [
    "df_single_asx = df[df['ASX_Codes'].str.len()==1]; df_single_asx.shape"
   ]
  },
  {
   "cell_type": "code",
   "execution_count": 10,
   "metadata": {},
   "outputs": [],
   "source": [
    "def pop_code(row):\n",
    "    # get out the one element in list\n",
    "    row['ASX_Code'] = row['ASX_Codes'][0]\n",
    "    return row\n",
    "\n",
    "df_single_asx = df_single_asx.apply(pop_code, axis=1)"
   ]
  },
  {
   "cell_type": "code",
   "execution_count": 11,
   "metadata": {},
   "outputs": [],
   "source": [
    "# join table with one ASX code and mutiple codes\n",
    "df_all = df_single_asx.append(df_multi_asx)"
   ]
  },
  {
   "cell_type": "markdown",
   "metadata": {},
   "source": [
    "# Zip Pay (Z1P)"
   ]
  },
  {
   "cell_type": "code",
   "execution_count": 12,
   "metadata": {},
   "outputs": [],
   "source": [
    "# Create a Dataframe that groups by Date and Where the stock mentioned is Z1P\n",
    "zip_grouped = df_all[df_all['ASX_Code'] == 'Z1P'].groupby('Date_UTC').count()\n",
    "zip_grouped = zip_grouped.reset_index()\n",
    "\n",
    "zip_grouped['Date_UTC'] = pd.to_datetime(zip_grouped['Date_UTC'])"
   ]
  },
  {
   "cell_type": "code",
   "execution_count": 13,
   "metadata": {},
   "outputs": [],
   "source": [
    "df_zip = df_all[df_all['ASX_Code'] == 'Z1P']"
   ]
  },
  {
   "cell_type": "code",
   "execution_count": 14,
   "metadata": {},
   "outputs": [
    {
     "data": {
      "text/html": [
       "<div>\n",
       "<style scoped>\n",
       "    .dataframe tbody tr th:only-of-type {\n",
       "        vertical-align: middle;\n",
       "    }\n",
       "\n",
       "    .dataframe tbody tr th {\n",
       "        vertical-align: top;\n",
       "    }\n",
       "\n",
       "    .dataframe thead th {\n",
       "        text-align: right;\n",
       "    }\n",
       "</style>\n",
       "<table border=\"1\" class=\"dataframe\">\n",
       "  <thead>\n",
       "    <tr style=\"text-align: right;\">\n",
       "      <th></th>\n",
       "      <th>Date</th>\n",
       "      <th>Open</th>\n",
       "      <th>High</th>\n",
       "      <th>Low</th>\n",
       "      <th>Close</th>\n",
       "      <th>Adj Close</th>\n",
       "      <th>Volume</th>\n",
       "    </tr>\n",
       "  </thead>\n",
       "  <tbody>\n",
       "    <tr>\n",
       "      <th>0</th>\n",
       "      <td>2020-05-04</td>\n",
       "      <td>2.32</td>\n",
       "      <td>2.45</td>\n",
       "      <td>2.26</td>\n",
       "      <td>2.35</td>\n",
       "      <td>2.35</td>\n",
       "      <td>9517500</td>\n",
       "    </tr>\n",
       "    <tr>\n",
       "      <th>1</th>\n",
       "      <td>2020-05-05</td>\n",
       "      <td>2.43</td>\n",
       "      <td>2.62</td>\n",
       "      <td>2.39</td>\n",
       "      <td>2.60</td>\n",
       "      <td>2.60</td>\n",
       "      <td>11729925</td>\n",
       "    </tr>\n",
       "    <tr>\n",
       "      <th>2</th>\n",
       "      <td>2020-05-06</td>\n",
       "      <td>2.75</td>\n",
       "      <td>2.94</td>\n",
       "      <td>2.70</td>\n",
       "      <td>2.82</td>\n",
       "      <td>2.82</td>\n",
       "      <td>15835686</td>\n",
       "    </tr>\n",
       "    <tr>\n",
       "      <th>3</th>\n",
       "      <td>2020-05-07</td>\n",
       "      <td>2.83</td>\n",
       "      <td>3.00</td>\n",
       "      <td>2.70</td>\n",
       "      <td>2.86</td>\n",
       "      <td>2.86</td>\n",
       "      <td>11589265</td>\n",
       "    </tr>\n",
       "    <tr>\n",
       "      <th>4</th>\n",
       "      <td>2020-05-08</td>\n",
       "      <td>3.11</td>\n",
       "      <td>3.42</td>\n",
       "      <td>3.08</td>\n",
       "      <td>3.27</td>\n",
       "      <td>3.27</td>\n",
       "      <td>20427132</td>\n",
       "    </tr>\n",
       "  </tbody>\n",
       "</table>\n",
       "</div>"
      ],
      "text/plain": [
       "         Date  Open  High   Low  Close  Adj Close    Volume\n",
       "0  2020-05-04  2.32  2.45  2.26   2.35       2.35   9517500\n",
       "1  2020-05-05  2.43  2.62  2.39   2.60       2.60  11729925\n",
       "2  2020-05-06  2.75  2.94  2.70   2.82       2.82  15835686\n",
       "3  2020-05-07  2.83  3.00  2.70   2.86       2.86  11589265\n",
       "4  2020-05-08  3.11  3.42  3.08   3.27       3.27  20427132"
      ]
     },
     "execution_count": 14,
     "metadata": {},
     "output_type": "execute_result"
    }
   ],
   "source": [
    "zip_asx = pd.read_csv('./Z1P.AX.csv'); zip_asx.head()"
   ]
  },
  {
   "cell_type": "code",
   "execution_count": 15,
   "metadata": {},
   "outputs": [],
   "source": [
    "# used to ensure plotting works on date axis\n",
    "zip_asx['Date'] = pd.to_datetime(zip_asx['Date'])"
   ]
  },
  {
   "cell_type": "code",
   "execution_count": 16,
   "metadata": {},
   "outputs": [
    {
     "data": {
      "image/png": "[encoded data removed]",
      "text/plain": [
       "<Figure size 1008x576 with 1 Axes>"
      ]
     },
     "metadata": {},
     "output_type": "display_data"
    }
   ],
   "source": [
    "plt.figure(figsize=(14,8))\n",
    "plt.plot(zip_asx['Date'], zip_asx['Close'], label='Z1P')\n",
    "plt.plot(zip_grouped['Date_UTC'], zip_grouped['ASX_Code'], label='ZIP Mentions')\n",
    "plt.title('Unscaled Comparison of Z1P on ASX & Amount of Mentions on ASX_Bets')\n",
    "plt.legend();"
   ]
  },
  {
   "cell_type": "markdown",
   "metadata": {},
   "source": [
    "**Note:**<br>Even though the values are not scaled we can still observe some slight spikes in the mentions."
   ]
  },
  {
   "cell_type": "code",
   "execution_count": 17,
   "metadata": {},
   "outputs": [],
   "source": [
    "scaler = StandardScaler()\n",
    "# get the z-scores for the values to enable a good comparison.\n",
    "zip_grouped['ASX_Code_scaled'] = scaler.fit_transform(zip_grouped['ASX_Code'].values.reshape(-1,1))\n",
    "zip_asx['ASX_Close_scaled'] = scaler.fit_transform(zip_asx['Close'].values.reshape(-1,1))"
   ]
  },
  {
   "cell_type": "code",
   "execution_count": 64,
   "metadata": {},
   "outputs": [
    {
     "data": {
      "image/png": "[encoded data removed]",
      "text/plain": [
       "<Figure size 1008x576 with 1 Axes>"
      ]
     },
     "metadata": {},
     "output_type": "display_data"
    }
   ],
   "source": [
    "plt.figure(figsize=(14,8))\n",
    "plt.plot(zip_asx['Date'], zip_asx['ASX_Close_scaled'], label='Z1P')\n",
    "plt.plot(zip_grouped['Date'], zip_grouped['ASX_Code_scaled'], label='Mentions')\n",
    "plt.title('Z1P mentions on ASX_Bets vs ASX Closing Price for Z1P')\n",
    "plt.savefig('./zip_asx_bets_vs_asx_price.png', format='png')\n",
    "\n",
    "plt.legend();"
   ]
  },
  {
   "cell_type": "code",
   "execution_count": 62,
   "metadata": {},
   "outputs": [
    {
     "data": {
      "text/plain": [
       "<Figure size 432x288 with 0 Axes>"
      ]
     },
     "metadata": {},
     "output_type": "display_data"
    }
   ],
   "source": []
  },
  {
   "cell_type": "markdown",
   "metadata": {},
   "source": [
    "**Interpretation**<br>\n",
    "ASX_Bets Small spike around the first week of May. However, the mentions plateued until a month later. A rapid increase in both the mentions and the ASX price. Mentions seem to be lagging behind the price by about a day. After, the spike in mentions the mentions fall rapidly. It seems that the mentions on the subreddit are still lagging behind Z1P Closing price."
   ]
  },
  {
   "cell_type": "markdown",
   "metadata": {},
   "source": [
    "### Using Granger Causality to Determine Causality.\n",
    "Granger Causality is a statitisical technique to determine whether one time series causes another."
   ]
  },
  {
   "cell_type": "code",
   "execution_count": 19,
   "metadata": {},
   "outputs": [],
   "source": [
    "from statsmodels.tsa.stattools import grangercausalitytests\n",
    "import datetime"
   ]
  },
  {
   "cell_type": "code",
   "execution_count": 20,
   "metadata": {},
   "outputs": [
    {
     "data": {
      "text/plain": [
       "((29,), (21,))"
      ]
     },
     "execution_count": 20,
     "metadata": {},
     "output_type": "execute_result"
    }
   ],
   "source": [
    "zip_asx['ASX_Close_scaled'].shape, zip_grouped['ASX_Code_scaled'].shape"
   ]
  },
  {
   "cell_type": "code",
   "execution_count": 21,
   "metadata": {},
   "outputs": [],
   "source": [
    "zip_grouped = zip_grouped.rename(columns={'Date_UTC': 'Date'})"
   ]
  },
  {
   "cell_type": "code",
   "execution_count": 22,
   "metadata": {},
   "outputs": [],
   "source": [
    "min_date, max_date = zip_asx.Date.min(), zip_asx.Date.max()"
   ]
  },
  {
   "cell_type": "code",
   "execution_count": 23,
   "metadata": {},
   "outputs": [
    {
     "data": {
      "text/plain": [
       "(Timestamp('2020-05-04 00:00:00'), Timestamp('2020-06-12 00:00:00'))"
      ]
     },
     "execution_count": 23,
     "metadata": {},
     "output_type": "execute_result"
    }
   ],
   "source": [
    "min_date, max_date"
   ]
  },
  {
   "cell_type": "code",
   "execution_count": 24,
   "metadata": {},
   "outputs": [],
   "source": [
    "def make_empty_days(df, min_date, max_date, date_col='Date'):\n",
    "    '''Creates empty rows in Dataframe for\n",
    "    for missing days and fills with zero.\n",
    "    Returns: Dataframe with Date as index.\n",
    "    '''\n",
    "    df = df.set_index(date_col)\n",
    "    idx = pd.date_range(min_date, max_date)\n",
    "    # change df to a datetime index\n",
    "    df.index = pd.DatetimeIndex(df.index)\n",
    "    # makes empty days (usually weekends)\n",
    "    df = df.reindex(idx, fill_value=0)\n",
    "    return df\n",
    "\n",
    "zip_asx = make_empty_days(zip_asx, min_date, max_date) \n",
    "zip_grouped = make_empty_days(zip_grouped, min_date, max_date)\n"
   ]
  },
  {
   "cell_type": "code",
   "execution_count": 25,
   "metadata": {},
   "outputs": [],
   "source": [
    "def fill_weekend(df, empty_col):\n",
    "    '''Create columns for weekends, fill in with concave function\n",
    "    find day before empty date, call it ,y. find next non-empty day,\n",
    "    call it y. Compute y+x/2 and fill in empty row.\n",
    "    '''\n",
    "    date_idxs = df[df[empty_col] == 0].index\n",
    "\n",
    "    for date in date_idxs:\n",
    "        # get next non-empty day\n",
    "        # start two days ahead, check if not check next day\n",
    "        dates_ahead = df.loc[date + datetime.timedelta(2):]\n",
    "        # get the next non-empty date \n",
    "        next_trading_days = dates_ahead[dates_ahead[empty_col] != 0]\n",
    "        # edge case, if the last day is empty\n",
    "        if next_trading_days.size == 0:\n",
    "            continue\n",
    "        next_trading = next_trading_days.index[0]\n",
    "     \n",
    "        # get previous days value\n",
    "        # if first day is empty, use next trading day\n",
    "        try:\n",
    "            prev_day = df.loc[date - datetime.timedelta(1)]\n",
    "            df.loc[date] = (prev_day + df.loc[next_trading]) / 2\n",
    "        except:\n",
    "            df.loc[date] = df.loc[next_trading]\n",
    "        \n",
    "\n",
    "            \n",
    "    return df\n",
    "\n",
    "        \n",
    "zip_asx = fill_weekend(zip_asx, 'Open')   \n",
    "zip_asx = zip_asx.reset_index()\n",
    "zip_asx = zip_asx.rename(columns={'index': 'Date'})\n",
    "\n",
    "zip_grouped = fill_weekend(zip_grouped, 'ASX_Code')   \n",
    "zip_grouped = zip_grouped.reset_index()\n",
    "zip_grouped = zip_grouped.rename(columns={'index': 'Date'})"
   ]
  },
  {
   "cell_type": "code",
   "execution_count": 26,
   "metadata": {},
   "outputs": [],
   "source": [
    "# MISTAKE I THINK\n",
    "# # returns duplicate columns as boolean array\n",
    "# ~zip_asx.columns.duplicated()\n",
    "# # remove the first two duplicate columns for Date\n",
    "# zip_asx = zip_asx.loc[:,[ False, False, True,  True,  True,  True,  True,  True,  True,\n",
    "#         True]]"
   ]
  },
  {
   "cell_type": "code",
   "execution_count": 27,
   "metadata": {},
   "outputs": [
    {
     "data": {
      "text/html": [
       "<div>\n",
       "<style scoped>\n",
       "    .dataframe tbody tr th:only-of-type {\n",
       "        vertical-align: middle;\n",
       "    }\n",
       "\n",
       "    .dataframe tbody tr th {\n",
       "        vertical-align: top;\n",
       "    }\n",
       "\n",
       "    .dataframe thead th {\n",
       "        text-align: right;\n",
       "    }\n",
       "</style>\n",
       "<table border=\"1\" class=\"dataframe\">\n",
       "  <thead>\n",
       "    <tr style=\"text-align: right;\">\n",
       "      <th></th>\n",
       "      <th>Date</th>\n",
       "      <th>Open</th>\n",
       "      <th>High</th>\n",
       "      <th>Low</th>\n",
       "      <th>Close</th>\n",
       "      <th>Adj Close</th>\n",
       "      <th>Volume</th>\n",
       "      <th>ASX_Close_scaled</th>\n",
       "    </tr>\n",
       "  </thead>\n",
       "  <tbody>\n",
       "    <tr>\n",
       "      <th>39</th>\n",
       "      <td>2020-06-12</td>\n",
       "      <td>5.9</td>\n",
       "      <td>6.48</td>\n",
       "      <td>5.7000</td>\n",
       "      <td>6.30</td>\n",
       "      <td>6.30</td>\n",
       "      <td>20772948.0</td>\n",
       "      <td>1.651252</td>\n",
       "    </tr>\n",
       "    <tr>\n",
       "      <th>26</th>\n",
       "      <td>2020-05-30</td>\n",
       "      <td>3.7</td>\n",
       "      <td>3.75</td>\n",
       "      <td>3.6575</td>\n",
       "      <td>3.75</td>\n",
       "      <td>3.75</td>\n",
       "      <td>3326948.0</td>\n",
       "      <td>-0.237535</td>\n",
       "    </tr>\n",
       "    <tr>\n",
       "      <th>14</th>\n",
       "      <td>2020-05-18</td>\n",
       "      <td>3.2</td>\n",
       "      <td>3.20</td>\n",
       "      <td>3.0700</td>\n",
       "      <td>3.09</td>\n",
       "      <td>3.09</td>\n",
       "      <td>6367052.0</td>\n",
       "      <td>-0.726398</td>\n",
       "    </tr>\n",
       "  </tbody>\n",
       "</table>\n",
       "</div>"
      ],
      "text/plain": [
       "         Date  Open  High     Low  Close  Adj Close      Volume  \\\n",
       "39 2020-06-12   5.9  6.48  5.7000   6.30       6.30  20772948.0   \n",
       "26 2020-05-30   3.7  3.75  3.6575   3.75       3.75   3326948.0   \n",
       "14 2020-05-18   3.2  3.20  3.0700   3.09       3.09   6367052.0   \n",
       "\n",
       "    ASX_Close_scaled  \n",
       "39          1.651252  \n",
       "26         -0.237535  \n",
       "14         -0.726398  "
      ]
     },
     "execution_count": 27,
     "metadata": {},
     "output_type": "execute_result"
    }
   ],
   "source": [
    "zip_asx.sample(3)"
   ]
  },
  {
   "cell_type": "code",
   "execution_count": 28,
   "metadata": {},
   "outputs": [
    {
     "data": {
      "text/plain": [
       "((40,), (40,))"
      ]
     },
     "execution_count": 28,
     "metadata": {},
     "output_type": "execute_result"
    }
   ],
   "source": [
    "zip_asx['ASX_Close_scaled'].shape, zip_grouped['ASX_Code_scaled'].shape"
   ]
  },
  {
   "cell_type": "code",
   "execution_count": 29,
   "metadata": {},
   "outputs": [],
   "source": [
    "import numpy as np\n",
    "# create 2 column Dataframe for granger causality\n",
    "asx_and_bets = pd.DataFrame(\n",
    "    {'ASX' : zip_asx['Close'],\n",
    "     'ASX_Bets': zip_grouped['ASX_Code']})"
   ]
  },
  {
   "cell_type": "code",
   "execution_count": 30,
   "metadata": {},
   "outputs": [
    {
     "name": "stdout",
     "output_type": "stream",
     "text": [
      "\n",
      "Granger Causality\n",
      "number of lags (no zero) 1\n",
      "ssr based F test:         F=1.0713  , p=0.3075  , df_denom=36, df_num=1\n",
      "ssr based chi2 test:   chi2=1.1606  , p=0.2813  , df=1\n",
      "likelihood ratio test: chi2=1.1437  , p=0.2849  , df=1\n",
      "parameter F test:         F=1.0713  , p=0.3075  , df_denom=36, df_num=1\n"
     ]
    }
   ],
   "source": [
    "# is column 2 determing column 1?\n",
    "test_result = grangercausalitytests(asx_and_bets, 1)"
   ]
  },
  {
   "cell_type": "markdown",
   "metadata": {},
   "source": [
    "**Interpretation**:<br> The F-test has a p-value of 0.3075, which is greater that our level of significance, 0.05. Therefore we fail to reject our null hypothesis. ASX_Bets Mentions do not determine any stock prices. This is most probably due to the large size of zip relative to smaller stocks."
   ]
  },
  {
   "cell_type": "code",
   "execution_count": 31,
   "metadata": {},
   "outputs": [
    {
     "name": "stdout",
     "output_type": "stream",
     "text": [
      "\n",
      "Granger Causality\n",
      "number of lags (no zero) 1\n",
      "ssr based F test:         F=15.4526 , p=0.0004  , df_denom=36, df_num=1\n",
      "ssr based chi2 test:   chi2=16.7403 , p=0.0000  , df=1\n",
      "likelihood ratio test: chi2=13.9285 , p=0.0002  , df=1\n",
      "parameter F test:         F=15.4526 , p=0.0004  , df_denom=36, df_num=1\n"
     ]
    }
   ],
   "source": [
    "# reordering the columns of the data frame\n",
    "test_result = grangercausalitytests(asx_and_bets[['ASX_Bets', 'ASX']], 1)"
   ]
  },
  {
   "cell_type": "markdown",
   "metadata": {},
   "source": [
    "**Interpretation**:<br> Here, we have tested whether, the ASX determines ASX_Bets mentions of the Zip stock, really just a sanity check. Here we have strong evidence that indeed ASX 'Granger-causes' the amount users speak about Zip Pay."
   ]
  },
  {
   "cell_type": "markdown",
   "metadata": {},
   "source": [
    "### Let's Narrow the time frame \n",
    "If we refer back to Zips Mentions before 29th of May, majority of time there is only one mention. I figured maybe this sideways trend could be effecting the potential Grange Causality. So, I have trimmed the dates to begin after the 29th.  "
   ]
  },
  {
   "cell_type": "code",
   "execution_count": 32,
   "metadata": {},
   "outputs": [
    {
     "name": "stdout",
     "output_type": "stream",
     "text": [
      "\n",
      "Granger Causality\n",
      "number of lags (no zero) 1\n",
      "ssr based F test:         F=0.4520  , p=0.5166  , df_denom=10, df_num=1\n",
      "ssr based chi2 test:   chi2=0.5876  , p=0.4434  , df=1\n",
      "likelihood ratio test: chi2=0.5747  , p=0.4484  , df=1\n",
      "parameter F test:         F=0.4520  , p=0.5166  , df_denom=10, df_num=1\n"
     ]
    }
   ],
   "source": [
    "zip_snip = zip_grouped[zip_grouped['Date'] > '2020-05-29']\n",
    "\n",
    "zip_asx['Date'] = pd.to_datetime(zip_asx['Date'])\n",
    "zip_asx_snip = zip_asx[zip_asx['Date'] > '2020-05-29']\n",
    "\n",
    "asx_bets_snip = pd.DataFrame(\n",
    "    {'ASX' : zip_asx_snip['Close'],\n",
    "     'ASX_Bets': zip_snip['ASX_Code']})\n",
    "\n",
    "# is column 2 determing column 1?\n",
    "test_result = grangercausalitytests(asx_bets_snip, 1)"
   ]
  },
  {
   "cell_type": "markdown",
   "metadata": {},
   "source": [
    "**Note:**<br> Still a high p-value, we still fail to reject the null hypothesis. ASX_Bets Mentions do not effect ASX Listing price for Z1P."
   ]
  },
  {
   "cell_type": "markdown",
   "metadata": {},
   "source": [
    "# More Data and Smaller Market Cap Stocks\n",
    "We will bring in some smaller cap stock/s and bring in data from another reddit forum that discusses ASX listed stocks, ausstocks."
   ]
  },
  {
   "cell_type": "code",
   "execution_count": 33,
   "metadata": {},
   "outputs": [],
   "source": [
    "aus_df = pd.read_csv('./ausstocks_posts.csv', delimiter='\\t'); aus_df.head()\n",
    "\n",
    "bets_df = pd.read_csv('./asxbets_posts.csv', delimiter='\\t')"
   ]
  },
  {
   "cell_type": "code",
   "execution_count": 34,
   "metadata": {},
   "outputs": [],
   "source": [
    "aus_df.rename(columns={'Date_UTC': 'Date'}, inplace=True)\n",
    "bets_df.rename(columns={'Date_UTC': 'Date'}, inplace=True)"
   ]
  },
  {
   "cell_type": "code",
   "execution_count": 35,
   "metadata": {},
   "outputs": [
    {
     "data": {
      "text/plain": [
       "((12021, 5), (10551, 5))"
      ]
     },
     "execution_count": 35,
     "metadata": {},
     "output_type": "execute_result"
    }
   ],
   "source": [
    "aus_df.shape, bets_df.shape "
   ]
  },
  {
   "cell_type": "code",
   "execution_count": 36,
   "metadata": {},
   "outputs": [
    {
     "data": {
      "text/plain": [
       "('2019-08-24', '2020-06-22')"
      ]
     },
     "execution_count": 36,
     "metadata": {},
     "output_type": "execute_result"
    }
   ],
   "source": [
    "aus_df.Date.min(), aus_df.Date.max()"
   ]
  },
  {
   "cell_type": "code",
   "execution_count": 37,
   "metadata": {},
   "outputs": [
    {
     "data": {
      "text/plain": [
       "('2020-04-22', '2020-06-13')"
      ]
     },
     "execution_count": 37,
     "metadata": {},
     "output_type": "execute_result"
    }
   ],
   "source": [
    "bets_df.Date.min(), bets_df.Date.max()"
   ]
  },
  {
   "cell_type": "code",
   "execution_count": 38,
   "metadata": {},
   "outputs": [],
   "source": [
    "# combine both subreddits DFs\n",
    "both_df = aus_df.append(bets_df)"
   ]
  },
  {
   "cell_type": "code",
   "execution_count": 39,
   "metadata": {},
   "outputs": [
    {
     "data": {
      "text/html": [
       "<div>\n",
       "<style scoped>\n",
       "    .dataframe tbody tr th:only-of-type {\n",
       "        vertical-align: middle;\n",
       "    }\n",
       "\n",
       "    .dataframe tbody tr th {\n",
       "        vertical-align: top;\n",
       "    }\n",
       "\n",
       "    .dataframe thead th {\n",
       "        text-align: right;\n",
       "    }\n",
       "</style>\n",
       "<table border=\"1\" class=\"dataframe\">\n",
       "  <thead>\n",
       "    <tr style=\"text-align: right;\">\n",
       "      <th></th>\n",
       "      <th>Date</th>\n",
       "      <th>Time</th>\n",
       "      <th>Body</th>\n",
       "      <th>User</th>\n",
       "      <th>Post</th>\n",
       "      <th>ASX_Codes</th>\n",
       "    </tr>\n",
       "  </thead>\n",
       "  <tbody>\n",
       "    <tr>\n",
       "      <th>0</th>\n",
       "      <td>2020-06-22</td>\n",
       "      <td>12:06:11</td>\n",
       "      <td>Weekly /r/ausstocks Discussion - Week of June ...</td>\n",
       "      <td>AutoModerator</td>\n",
       "      <td>1</td>\n",
       "      <td>None</td>\n",
       "    </tr>\n",
       "    <tr>\n",
       "      <th>1</th>\n",
       "      <td>2020-06-22</td>\n",
       "      <td>15:09:42</td>\n",
       "      <td>i suspect a blood bath this week...</td>\n",
       "      <td>ThePersonalSpaceGuy</td>\n",
       "      <td>0</td>\n",
       "      <td>None</td>\n",
       "    </tr>\n",
       "    <tr>\n",
       "      <th>2</th>\n",
       "      <td>2020-06-22</td>\n",
       "      <td>20:52:28</td>\n",
       "      <td>with news of a second wave its likely BNPL sto...</td>\n",
       "      <td>dudefooddude504</td>\n",
       "      <td>0</td>\n",
       "      <td>[BNPL]</td>\n",
       "    </tr>\n",
       "    <tr>\n",
       "      <th>3</th>\n",
       "      <td>2020-06-22</td>\n",
       "      <td>15:39:51</td>\n",
       "      <td>When are you thinking? Early week or later on?</td>\n",
       "      <td>CaptainGloopyGlooby</td>\n",
       "      <td>0</td>\n",
       "      <td>None</td>\n",
       "    </tr>\n",
       "    <tr>\n",
       "      <th>4</th>\n",
       "      <td>2020-06-22</td>\n",
       "      <td>17:21:16</td>\n",
       "      <td>I hope you're right, looking for opportunities</td>\n",
       "      <td>dropbear14</td>\n",
       "      <td>0</td>\n",
       "      <td>None</td>\n",
       "    </tr>\n",
       "  </tbody>\n",
       "</table>\n",
       "</div>"
      ],
      "text/plain": [
       "         Date      Time                                               Body  \\\n",
       "0  2020-06-22  12:06:11  Weekly /r/ausstocks Discussion - Week of June ...   \n",
       "1  2020-06-22  15:09:42                i suspect a blood bath this week...   \n",
       "2  2020-06-22  20:52:28  with news of a second wave its likely BNPL sto...   \n",
       "3  2020-06-22  15:39:51     When are you thinking? Early week or later on?   \n",
       "4  2020-06-22  17:21:16     I hope you're right, looking for opportunities   \n",
       "\n",
       "                  User  Post ASX_Codes  \n",
       "0        AutoModerator     1      None  \n",
       "1  ThePersonalSpaceGuy     0      None  \n",
       "2      dudefooddude504     0    [BNPL]  \n",
       "3  CaptainGloopyGlooby     0      None  \n",
       "4           dropbear14     0      None  "
      ]
     },
     "execution_count": 39,
     "metadata": {},
     "output_type": "execute_result"
    }
   ],
   "source": [
    "both_df = both_df.apply(make_stock_col, axis=1); both_df.head()"
   ]
  },
  {
   "cell_type": "code",
   "execution_count": 40,
   "metadata": {},
   "outputs": [
    {
     "data": {
      "text/plain": [
       "(7698, 6)"
      ]
     },
     "execution_count": 40,
     "metadata": {},
     "output_type": "execute_result"
    }
   ],
   "source": [
    "# remove posts not mentioning stocks\n",
    "both_df = both_df[~both_df['ASX_Codes'].isna()]\n",
    "both_df.shape"
   ]
  },
  {
   "cell_type": "code",
   "execution_count": 41,
   "metadata": {},
   "outputs": [],
   "source": [
    "def seperate_codes(df):    \n",
    "    '''Iterate over rows of df with mutiple ASX codes\n",
    "    Return duplicate dataframe with duplicate rows\n",
    "    with sperated codes        \n",
    "    ''' \n",
    "    for idx, row in df.iterrows():\n",
    "        # iterate over the amount of the codes\n",
    "        for idx, code in enumerate(range(len(row['ASX_Codes']))):        \n",
    "            row['ASX_Code'] = row['ASX_Codes'][idx]        \n",
    "            df = df.append(row)\n",
    "    \n",
    "    return df.reindex()\n",
    "\n",
    "def pop_code(row):\n",
    "    # get out the one element in list\n",
    "    row['ASX_Code'] = row['ASX_Codes'][0]\n",
    "    return row\n",
    "\n",
    "both_df = seperate_codes(both_df)"
   ]
  },
  {
   "cell_type": "code",
   "execution_count": 42,
   "metadata": {},
   "outputs": [
    {
     "data": {
      "text/plain": [
       "(21904, 7)"
      ]
     },
     "execution_count": 42,
     "metadata": {},
     "output_type": "execute_result"
    }
   ],
   "source": [
    "both_df.shape"
   ]
  },
  {
   "cell_type": "code",
   "execution_count": 43,
   "metadata": {},
   "outputs": [],
   "source": [
    "both_df = both_df.apply(pop_code, axis=1)"
   ]
  },
  {
   "cell_type": "code",
   "execution_count": 44,
   "metadata": {},
   "outputs": [
    {
     "data": {
      "text/html": [
       "<div>\n",
       "<style scoped>\n",
       "    .dataframe tbody tr th:only-of-type {\n",
       "        vertical-align: middle;\n",
       "    }\n",
       "\n",
       "    .dataframe tbody tr th {\n",
       "        vertical-align: top;\n",
       "    }\n",
       "\n",
       "    .dataframe thead th {\n",
       "        text-align: right;\n",
       "    }\n",
       "</style>\n",
       "<table border=\"1\" class=\"dataframe\">\n",
       "  <thead>\n",
       "    <tr style=\"text-align: right;\">\n",
       "      <th></th>\n",
       "      <th>Date</th>\n",
       "      <th>Time</th>\n",
       "      <th>Body</th>\n",
       "      <th>User</th>\n",
       "      <th>Post</th>\n",
       "      <th>ASX_Codes</th>\n",
       "      <th>ASX_Code</th>\n",
       "    </tr>\n",
       "  </thead>\n",
       "  <tbody>\n",
       "    <tr>\n",
       "      <th>2</th>\n",
       "      <td>2020-06-22</td>\n",
       "      <td>20:52:28</td>\n",
       "      <td>with news of a second wave its likely BNPL sto...</td>\n",
       "      <td>dudefooddude504</td>\n",
       "      <td>0</td>\n",
       "      <td>[BNPL]</td>\n",
       "      <td>BNPL</td>\n",
       "    </tr>\n",
       "    <tr>\n",
       "      <th>5</th>\n",
       "      <td>2020-06-22</td>\n",
       "      <td>18:25:46</td>\n",
       "      <td>Bellevue Gold (BGL) stocks predictions?</td>\n",
       "      <td>solidice</td>\n",
       "      <td>1</td>\n",
       "      <td>[BGL]</td>\n",
       "      <td>BGL</td>\n",
       "    </tr>\n",
       "    <tr>\n",
       "      <th>7</th>\n",
       "      <td>2020-06-22</td>\n",
       "      <td>20:10:46</td>\n",
       "      <td>Current thoughts on Kogan (KGN) P2</td>\n",
       "      <td>SpaceShip56</td>\n",
       "      <td>1</td>\n",
       "      <td>[KGN]</td>\n",
       "      <td>KGN</td>\n",
       "    </tr>\n",
       "    <tr>\n",
       "      <th>12</th>\n",
       "      <td>2020-06-22</td>\n",
       "      <td>05:12:44</td>\n",
       "      <td>Which cyber security ASX stock do you prefer?</td>\n",
       "      <td>rastoginimit</td>\n",
       "      <td>1</td>\n",
       "      <td>[ASX]</td>\n",
       "      <td>ASX</td>\n",
       "    </tr>\n",
       "    <tr>\n",
       "      <th>13</th>\n",
       "      <td>2020-06-22</td>\n",
       "      <td>08:41:31</td>\n",
       "      <td>For another approach, I bought the HACK ETF  [...</td>\n",
       "      <td>Jesse2014</td>\n",
       "      <td>0</td>\n",
       "      <td>[HACK, ETF]</td>\n",
       "      <td>HACK</td>\n",
       "    </tr>\n",
       "  </tbody>\n",
       "</table>\n",
       "</div>"
      ],
      "text/plain": [
       "          Date      Time                                               Body  \\\n",
       "2   2020-06-22  20:52:28  with news of a second wave its likely BNPL sto...   \n",
       "5   2020-06-22  18:25:46            Bellevue Gold (BGL) stocks predictions?   \n",
       "7   2020-06-22  20:10:46                 Current thoughts on Kogan (KGN) P2   \n",
       "12  2020-06-22  05:12:44      Which cyber security ASX stock do you prefer?   \n",
       "13  2020-06-22  08:41:31  For another approach, I bought the HACK ETF  [...   \n",
       "\n",
       "               User  Post    ASX_Codes ASX_Code  \n",
       "2   dudefooddude504     0       [BNPL]     BNPL  \n",
       "5          solidice     1        [BGL]      BGL  \n",
       "7       SpaceShip56     1        [KGN]      KGN  \n",
       "12     rastoginimit     1        [ASX]      ASX  \n",
       "13        Jesse2014     0  [HACK, ETF]     HACK  "
      ]
     },
     "execution_count": 44,
     "metadata": {},
     "output_type": "execute_result"
    }
   ],
   "source": [
    "both_df.head()"
   ]
  },
  {
   "cell_type": "code",
   "execution_count": 45,
   "metadata": {},
   "outputs": [
    {
     "data": {
      "text/plain": [
       "Z1P     935\n",
       "BBOZ    912\n",
       "ASX     796\n",
       "APT     572\n",
       "ETF     475\n",
       "MQG     397\n",
       "VAS     354\n",
       "BNPL    305\n",
       "WEB     305\n",
       "NAB     300\n",
       "5BL     295\n",
       "BBUS    235\n",
       "NVX     232\n",
       "MSB     221\n",
       "COVI    209\n",
       "CBA     193\n",
       "VDHG    179\n",
       "QAN     174\n",
       "KMD     171\n",
       "CEO     170\n",
       "Name: ASX_Code, dtype: int64"
      ]
     },
     "execution_count": 45,
     "metadata": {},
     "output_type": "execute_result"
    }
   ],
   "source": [
    "# list of the 20 most mentioned stocks across both forums.\n",
    "both_df['ASX_Code'].value_counts().head(20)"
   ]
  },
  {
   "cell_type": "markdown",
   "metadata": {},
   "source": [
    "As expected majority of the stocks most mentioned are large cap stocks, however, OPY(OpenPay) is currently around 250 million market cap, which some would define as a Micro-cap stock. OPY is about 10% of the size of Zip Pay. We will proceed with the same methodology as Zip with OPY."
   ]
  },
  {
   "cell_type": "markdown",
   "metadata": {},
   "source": [
    "# OpenPay(OPY) ASX Data"
   ]
  },
  {
   "cell_type": "code",
   "execution_count": 46,
   "metadata": {},
   "outputs": [],
   "source": [
    "def group_by_code_date(df, asx_code, date_col='Date'):\n",
    "    '''Group Dataframe by ASX code and Date\n",
    "    Returns Groupby Dataframe\n",
    "    '''\n",
    "    code_df = df[df['ASX_Code'] == asx_code].groupby(date_col).count()\n",
    "    # return to numerical index\n",
    "    code_df = code_df.reset_index()\n",
    "    code_df[date_col] = pd.to_datetime(code_df[date_col])\n",
    "    return code_df"
   ]
  },
  {
   "cell_type": "code",
   "execution_count": 47,
   "metadata": {},
   "outputs": [
    {
     "data": {
      "text/html": [
       "<div>\n",
       "<style scoped>\n",
       "    .dataframe tbody tr th:only-of-type {\n",
       "        vertical-align: middle;\n",
       "    }\n",
       "\n",
       "    .dataframe tbody tr th {\n",
       "        vertical-align: top;\n",
       "    }\n",
       "\n",
       "    .dataframe thead th {\n",
       "        text-align: right;\n",
       "    }\n",
       "</style>\n",
       "<table border=\"1\" class=\"dataframe\">\n",
       "  <thead>\n",
       "    <tr style=\"text-align: right;\">\n",
       "      <th></th>\n",
       "      <th>Date</th>\n",
       "      <th>Time</th>\n",
       "      <th>Body</th>\n",
       "      <th>User</th>\n",
       "      <th>Post</th>\n",
       "      <th>ASX_Codes</th>\n",
       "      <th>ASX_Code</th>\n",
       "    </tr>\n",
       "  </thead>\n",
       "  <tbody>\n",
       "    <tr>\n",
       "      <th>0</th>\n",
       "      <td>2020-04-30</td>\n",
       "      <td>2</td>\n",
       "      <td>2</td>\n",
       "      <td>2</td>\n",
       "      <td>2</td>\n",
       "      <td>2</td>\n",
       "      <td>2</td>\n",
       "    </tr>\n",
       "    <tr>\n",
       "      <th>1</th>\n",
       "      <td>2020-05-21</td>\n",
       "      <td>4</td>\n",
       "      <td>4</td>\n",
       "      <td>4</td>\n",
       "      <td>4</td>\n",
       "      <td>4</td>\n",
       "      <td>4</td>\n",
       "    </tr>\n",
       "    <tr>\n",
       "      <th>2</th>\n",
       "      <td>2020-06-01</td>\n",
       "      <td>6</td>\n",
       "      <td>6</td>\n",
       "      <td>6</td>\n",
       "      <td>6</td>\n",
       "      <td>6</td>\n",
       "      <td>6</td>\n",
       "    </tr>\n",
       "  </tbody>\n",
       "</table>\n",
       "</div>"
      ],
      "text/plain": [
       "        Date  Time  Body  User  Post  ASX_Codes  ASX_Code\n",
       "0 2020-04-30     2     2     2     2          2         2\n",
       "1 2020-05-21     4     4     4     4          4         4\n",
       "2 2020-06-01     6     6     6     6          6         6"
      ]
     },
     "execution_count": 47,
     "metadata": {},
     "output_type": "execute_result"
    }
   ],
   "source": [
    "opy_df = group_by_code_date(both_df, 'OPY')\n",
    "opy_df.head(3)"
   ]
  },
  {
   "cell_type": "code",
   "execution_count": 48,
   "metadata": {},
   "outputs": [
    {
     "name": "stdout",
     "output_type": "stream",
     "text": [
      "2020-04-30 00:00:00 2020-06-20 00:00:00\n"
     ]
    }
   ],
   "source": [
    "def print_date_range(df, date_col='Date', make_var=False):\n",
    "    print(df.Date.min(),df.Date.max())\n",
    "    if make_var:\n",
    "        return df.Date.min(),df.Date.max()\n",
    "\n",
    "min_date, max_date = print_date_range(opy_df, make_var=True)"
   ]
  },
  {
   "cell_type": "code",
   "execution_count": 49,
   "metadata": {},
   "outputs": [
    {
     "data": {
      "text/html": [
       "<div>\n",
       "<style scoped>\n",
       "    .dataframe tbody tr th:only-of-type {\n",
       "        vertical-align: middle;\n",
       "    }\n",
       "\n",
       "    .dataframe tbody tr th {\n",
       "        vertical-align: top;\n",
       "    }\n",
       "\n",
       "    .dataframe thead th {\n",
       "        text-align: right;\n",
       "    }\n",
       "</style>\n",
       "<table border=\"1\" class=\"dataframe\">\n",
       "  <thead>\n",
       "    <tr style=\"text-align: right;\">\n",
       "      <th></th>\n",
       "      <th>Date</th>\n",
       "      <th>Open</th>\n",
       "      <th>High</th>\n",
       "      <th>Low</th>\n",
       "      <th>Close</th>\n",
       "      <th>Adj Close</th>\n",
       "      <th>Volume</th>\n",
       "    </tr>\n",
       "  </thead>\n",
       "  <tbody>\n",
       "    <tr>\n",
       "      <th>0</th>\n",
       "      <td>2020-04-30</td>\n",
       "      <td>0.760</td>\n",
       "      <td>0.950</td>\n",
       "      <td>0.755</td>\n",
       "      <td>0.855</td>\n",
       "      <td>0.855</td>\n",
       "      <td>1140919</td>\n",
       "    </tr>\n",
       "    <tr>\n",
       "      <th>1</th>\n",
       "      <td>2020-05-01</td>\n",
       "      <td>0.870</td>\n",
       "      <td>1.070</td>\n",
       "      <td>0.850</td>\n",
       "      <td>1.020</td>\n",
       "      <td>1.020</td>\n",
       "      <td>1760320</td>\n",
       "    </tr>\n",
       "    <tr>\n",
       "      <th>2</th>\n",
       "      <td>2020-05-04</td>\n",
       "      <td>1.075</td>\n",
       "      <td>1.200</td>\n",
       "      <td>1.075</td>\n",
       "      <td>1.175</td>\n",
       "      <td>1.175</td>\n",
       "      <td>1442210</td>\n",
       "    </tr>\n",
       "    <tr>\n",
       "      <th>3</th>\n",
       "      <td>2020-05-05</td>\n",
       "      <td>1.200</td>\n",
       "      <td>1.250</td>\n",
       "      <td>1.190</td>\n",
       "      <td>1.205</td>\n",
       "      <td>1.205</td>\n",
       "      <td>1063160</td>\n",
       "    </tr>\n",
       "    <tr>\n",
       "      <th>4</th>\n",
       "      <td>2020-05-06</td>\n",
       "      <td>1.205</td>\n",
       "      <td>1.205</td>\n",
       "      <td>1.140</td>\n",
       "      <td>1.160</td>\n",
       "      <td>1.160</td>\n",
       "      <td>601598</td>\n",
       "    </tr>\n",
       "  </tbody>\n",
       "</table>\n",
       "</div>"
      ],
      "text/plain": [
       "         Date   Open   High    Low  Close  Adj Close   Volume\n",
       "0  2020-04-30  0.760  0.950  0.755  0.855      0.855  1140919\n",
       "1  2020-05-01  0.870  1.070  0.850  1.020      1.020  1760320\n",
       "2  2020-05-04  1.075  1.200  1.075  1.175      1.175  1442210\n",
       "3  2020-05-05  1.200  1.250  1.190  1.205      1.205  1063160\n",
       "4  2020-05-06  1.205  1.205  1.140  1.160      1.160   601598"
      ]
     },
     "execution_count": 49,
     "metadata": {},
     "output_type": "execute_result"
    }
   ],
   "source": [
    "opy_asx = pd.read_csv('./OPY.AX.csv')\n",
    "opy_asx.head()"
   ]
  },
  {
   "cell_type": "code",
   "execution_count": 50,
   "metadata": {},
   "outputs": [],
   "source": [
    "opy_asx = make_empty_days(opy_asx, min_date, max_date, date_col='Date')"
   ]
  },
  {
   "cell_type": "code",
   "execution_count": 51,
   "metadata": {},
   "outputs": [],
   "source": [
    "opy_df = make_empty_days(opy_df, min_date, max_date, date_col='Date')"
   ]
  },
  {
   "cell_type": "code",
   "execution_count": 52,
   "metadata": {},
   "outputs": [
    {
     "data": {
      "text/plain": [
       "((52, 6), (52, 6))"
      ]
     },
     "execution_count": 52,
     "metadata": {},
     "output_type": "execute_result"
    }
   ],
   "source": [
    "opy_asx.shape, opy_df.shape"
   ]
  },
  {
   "cell_type": "code",
   "execution_count": 53,
   "metadata": {},
   "outputs": [],
   "source": [
    "opy_asx = fill_weekend(opy_asx, 'Close')\n",
    "opy_df = fill_weekend(opy_df, 'ASX_Code')"
   ]
  },
  {
   "cell_type": "code",
   "execution_count": 54,
   "metadata": {},
   "outputs": [],
   "source": [
    "opy_asx = opy_asx.reset_index()\n",
    "opy_asx = opy_asx.rename(columns={'index': 'Date'})\n",
    "\n",
    "opy_df = fill_weekend(opy_df, 'ASX_Code')   \n",
    "opy_df = opy_df.reset_index()\n",
    "opy_df = opy_df.rename(columns={'index': 'Date'})"
   ]
  },
  {
   "cell_type": "code",
   "execution_count": 55,
   "metadata": {},
   "outputs": [
    {
     "data": {
      "text/html": [
       "<div>\n",
       "<style scoped>\n",
       "    .dataframe tbody tr th:only-of-type {\n",
       "        vertical-align: middle;\n",
       "    }\n",
       "\n",
       "    .dataframe tbody tr th {\n",
       "        vertical-align: top;\n",
       "    }\n",
       "\n",
       "    .dataframe thead th {\n",
       "        text-align: right;\n",
       "    }\n",
       "</style>\n",
       "<table border=\"1\" class=\"dataframe\">\n",
       "  <thead>\n",
       "    <tr style=\"text-align: right;\">\n",
       "      <th></th>\n",
       "      <th>Date</th>\n",
       "      <th>Open</th>\n",
       "      <th>High</th>\n",
       "      <th>Low</th>\n",
       "      <th>Close</th>\n",
       "      <th>Adj Close</th>\n",
       "      <th>Volume</th>\n",
       "    </tr>\n",
       "  </thead>\n",
       "  <tbody>\n",
       "    <tr>\n",
       "      <th>0</th>\n",
       "      <td>2020-04-30</td>\n",
       "      <td>0.76000</td>\n",
       "      <td>0.9500</td>\n",
       "      <td>0.75500</td>\n",
       "      <td>0.85500</td>\n",
       "      <td>0.85500</td>\n",
       "      <td>1140919.0</td>\n",
       "    </tr>\n",
       "    <tr>\n",
       "      <th>1</th>\n",
       "      <td>2020-05-01</td>\n",
       "      <td>0.87000</td>\n",
       "      <td>1.0700</td>\n",
       "      <td>0.85000</td>\n",
       "      <td>1.02000</td>\n",
       "      <td>1.02000</td>\n",
       "      <td>1760320.0</td>\n",
       "    </tr>\n",
       "    <tr>\n",
       "      <th>2</th>\n",
       "      <td>2020-05-02</td>\n",
       "      <td>0.97250</td>\n",
       "      <td>1.1350</td>\n",
       "      <td>0.96250</td>\n",
       "      <td>1.09750</td>\n",
       "      <td>1.09750</td>\n",
       "      <td>1601265.0</td>\n",
       "    </tr>\n",
       "    <tr>\n",
       "      <th>3</th>\n",
       "      <td>2020-05-03</td>\n",
       "      <td>1.08625</td>\n",
       "      <td>1.1925</td>\n",
       "      <td>1.07625</td>\n",
       "      <td>1.15125</td>\n",
       "      <td>1.15125</td>\n",
       "      <td>1332212.5</td>\n",
       "    </tr>\n",
       "    <tr>\n",
       "      <th>4</th>\n",
       "      <td>2020-05-04</td>\n",
       "      <td>1.07500</td>\n",
       "      <td>1.2000</td>\n",
       "      <td>1.07500</td>\n",
       "      <td>1.17500</td>\n",
       "      <td>1.17500</td>\n",
       "      <td>1442210.0</td>\n",
       "    </tr>\n",
       "  </tbody>\n",
       "</table>\n",
       "</div>"
      ],
      "text/plain": [
       "        Date     Open    High      Low    Close  Adj Close     Volume\n",
       "0 2020-04-30  0.76000  0.9500  0.75500  0.85500    0.85500  1140919.0\n",
       "1 2020-05-01  0.87000  1.0700  0.85000  1.02000    1.02000  1760320.0\n",
       "2 2020-05-02  0.97250  1.1350  0.96250  1.09750    1.09750  1601265.0\n",
       "3 2020-05-03  1.08625  1.1925  1.07625  1.15125    1.15125  1332212.5\n",
       "4 2020-05-04  1.07500  1.2000  1.07500  1.17500    1.17500  1442210.0"
      ]
     },
     "execution_count": 55,
     "metadata": {},
     "output_type": "execute_result"
    }
   ],
   "source": [
    "opy_asx.head()"
   ]
  },
  {
   "cell_type": "code",
   "execution_count": 56,
   "metadata": {},
   "outputs": [
    {
     "data": {
      "image/png": "[encoded data removed]",
      "text/plain": [
       "<Figure size 1008x576 with 1 Axes>"
      ]
     },
     "metadata": {},
     "output_type": "display_data"
    }
   ],
   "source": [
    "scaler = StandardScaler()\n",
    "# get the z-scores for the values to enable a good comparison.\n",
    "opy_df['ASX_Code_scaled'] = scaler.fit_transform(opy_df['ASX_Code'].values.reshape(-1,1))\n",
    "opy_asx['ASX_Close_scaled'] = scaler.fit_transform(opy_asx['Close'].values.reshape(-1,1))\n",
    "\n",
    "plt.figure(figsize=(14,8))\n",
    "plt.plot(opy_asx['Date'], opy_asx['ASX_Close_scaled'], label='OPY.AX')\n",
    "plt.plot(opy_df['Date'], opy_df['ASX_Code_scaled'], label='Mentions')\n",
    "plt.title('OPY mentions on ASX_Bets vs ASX Closing Price for OPY')\n",
    "\n",
    "plt.legend();"
   ]
  },
  {
   "cell_type": "code",
   "execution_count": 57,
   "metadata": {},
   "outputs": [],
   "source": [
    "import numpy as np\n",
    "# create 2 column Dataframe for granger causality\n",
    "asx_and_mentions = pd.DataFrame(\n",
    "    {'ASX' : opy_asx['Close'],\n",
    "     'Mentions': opy_df['ASX_Code']})"
   ]
  },
  {
   "cell_type": "code",
   "execution_count": 58,
   "metadata": {},
   "outputs": [
    {
     "name": "stdout",
     "output_type": "stream",
     "text": [
      "\n",
      "Granger Causality\n",
      "number of lags (no zero) 1\n",
      "ssr based F test:         F=2.0915  , p=0.1546  , df_denom=48, df_num=1\n",
      "ssr based chi2 test:   chi2=2.2222  , p=0.1360  , df=1\n",
      "likelihood ratio test: chi2=2.1752  , p=0.1403  , df=1\n",
      "parameter F test:         F=2.0915  , p=0.1546  , df_denom=48, df_num=1\n"
     ]
    }
   ],
   "source": [
    "# is column 2 determing column 1?\n",
    "test_result = grangercausalitytests(asx_and_mentions, 1)"
   ]
  },
  {
   "cell_type": "markdown",
   "metadata": {},
   "source": [
    "**Interpretation:**<br> Again, nothing significant here, we still have a high p-value in all tests. We can conclude that from this analysis mentions on the two stock forums over this date, we fail to reject that Reddit Mentions of an ASX code does not Granger-cause the price of the stock, OPY."
   ]
  },
  {
   "cell_type": "code",
   "execution_count": null,
   "metadata": {},
   "outputs": [],
   "source": []
  }
 ],
 "metadata": {
  "kernelspec": {
   "display_name": "Python 3",
   "language": "python",
   "name": "python3"
  },
  "language_info": {
   "codemirror_mode": {
    "name": "ipython",
    "version": 3
   },
   "file_extension": ".py",
   "mimetype": "text/x-python",
   "name": "python",
   "nbconvert_exporter": "python",
   "pygments_lexer": "ipython3",
   "version": "3.7.4"
  }
 },
 "nbformat": 4,
 "nbformat_minor": 4
}
